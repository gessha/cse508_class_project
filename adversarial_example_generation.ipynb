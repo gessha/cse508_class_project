{
 "cells": [
  {
   "cell_type": "code",
   "execution_count": 73,
   "metadata": {},
   "outputs": [],
   "source": [
    "%matplotlib inline\n",
    "import matplotlib.pyplot as plt\n",
    "import numpy as np\n",
    "import tqdm\n",
    "import imageio\n",
    "\n",
    "import torch\n",
    "import torch.nn as nn\n",
    "import torch.nn.functional as F\n",
    "import torch.optim as optim\n",
    "import torchvision\n",
    "from torchvision import datasets, transforms\n",
    "\n",
    "import foolbox\n",
    "\n",
    "# from keras.datasets import mnist\n",
    "# LeNet Model definition\n",
    "class Net(nn.Module):\n",
    "    def __init__(self):\n",
    "        super(Net, self).__init__()\n",
    "        self.conv1 = nn.Conv2d(1, 10, kernel_size=5)\n",
    "        self.conv2 = nn.Conv2d(10, 20, kernel_size=5)\n",
    "        self.conv2_drop = nn.Dropout2d()\n",
    "        self.fc1 = nn.Linear(320, 50)\n",
    "        self.fc2 = nn.Linear(50, 10)\n",
    "\n",
    "    def forward(self, x):\n",
    "        x = F.relu(F.max_pool2d(self.conv1(x), 2))\n",
    "        x = F.relu(F.max_pool2d(self.conv2_drop(self.conv2(x)), 2))\n",
    "        x = x.view(-1, 320)\n",
    "        x = F.relu(self.fc1(x))\n",
    "        x = F.dropout(x, training=self.training)\n",
    "        x = self.fc2(x)\n",
    "        return F.log_softmax(x, dim=1)"
   ]
  },
  {
   "cell_type": "code",
   "execution_count": 29,
   "metadata": {},
   "outputs": [
    {
     "name": "stdout",
     "output_type": "stream",
     "text": [
      "CUDA Available:  True\n"
     ]
    }
   ],
   "source": [
    "epsilons = [0, .05, .1, .15, .2, .25, .3]\n",
    "pretrained_model = \"./lenet_mnist_model.pth\"\n",
    "use_cuda=True\n",
    "\n",
    "mean = (0.1307,)\n",
    "std = (0.3081,)\n",
    "\n",
    "train_mnist = datasets.MNIST('../data', train=True, download=True,\n",
    "                       transform=transforms.Compose([\n",
    "#                            transforms.Resize((224, 224)),\n",
    "#                            transforms.ToTensor(),\n",
    "#                            transforms.Normalize(mean, std)\n",
    "                       ]))\n",
    "\n",
    "test_mnist = datasets.MNIST('../data', train=False, download=True,\n",
    "                       transform=transforms.Compose([\n",
    "#                            transforms.Resize((224, 224)),\n",
    "                           transforms.ToTensor(),\n",
    "#                            transforms.Normalize(mean, std)\n",
    "                       ]))\n",
    "\n",
    "# MNIST Test dataset and dataloader declaration\n",
    "test_loader = torch.utils.data.DataLoader(test_mnist,batch_size=1, shuffle=True)\n",
    "\n",
    "# (x_train, y_train), (x_test, y_test) = mnist.load_data()\n",
    "\n",
    "print(\"CUDA Available: \",torch.cuda.is_available())\n",
    "device = torch.device(\"cuda\" if (use_cuda and torch.cuda.is_available()) else \"cpu\")"
   ]
  },
  {
   "cell_type": "code",
   "execution_count": 30,
   "metadata": {},
   "outputs": [],
   "source": [
    "# Initialize the network\n",
    "model = Net().to(device)\n",
    "\n",
    "# Load the pretrained model\n",
    "model.load_state_dict(torch.load(pretrained_model, map_location='cuda'))\n",
    "\n",
    "# Set the model in evaluation mode. In this case this is for the Dropout layers\n",
    "model.eval()\n",
    "\n",
    "fmodel = foolbox.models.PyTorchModel(model, bounds=(0, 1), num_classes=10, preprocessing=(mean, std))"
   ]
  },
  {
   "cell_type": "code",
   "execution_count": 61,
   "metadata": {},
   "outputs": [
    {
     "name": "stdout",
     "output_type": "stream",
     "text": [
      "(torch.Size([1, 28, 28]), 1)\n",
      "predicted class 1\n",
      "(1, 28, 28)\n",
      "adversarial class 2\n"
     ]
    },
    {
     "data": {
      "text/plain": [
       "<matplotlib.image.AxesImage at 0x7fe45b064cf8>"
      ]
     },
     "execution_count": 61,
     "metadata": {},
     "output_type": "execute_result"
    },
    {
     "data": {
      "image/png": "[encoded data removed]",
      "text/plain": [
       "<matplotlib.figure.Figure at 0x7fe45b10cc88>"
      ]
     },
     "metadata": {
      "needs_background": "light"
     },
     "output_type": "display_data"
    },
    {
     "data": {
      "image/png": "[encoded data removed]",
      "text/plain": [
       "<matplotlib.figure.Figure at 0x7fe45b02e278>"
      ]
     },
     "metadata": {
      "needs_background": "light"
     },
     "output_type": "display_data"
    }
   ],
   "source": [
    "# attack = foolbox.attacks.GradientAttack(fmodel)\n",
    "attack = foolbox.attacks.FGSM(fmodel)\n",
    "\n",
    "image, label = test_mnist[5]; print((image.shape, label))\n",
    "print('predicted class', np.argmax(fmodel.forward(np.expand_dims(image, 0))))\n",
    "plt.figure()\n",
    "plt.imshow(image[0,:,:])\n",
    "# adversarial = attack(image.numpy(), label, epsilons=[0.13]); \n",
    "adversarial = attack(image.numpy(), label); \n",
    "print(adversarial.shape)\n",
    "print('adversarial class', np.argmax(fmodel.forward(np.expand_dims(adversarial, 0))))\n",
    "plt.figure()\n",
    "plt.imshow(adversarial[0,:,:])"
   ]
  },
  {
   "cell_type": "code",
   "execution_count": 86,
   "metadata": {},
   "outputs": [
    {
     "data": {
      "application/vnd.jupyter.widget-view+json": {
       "model_id": "6b9636a4e5914a0f92c8cc34ce2ab0f4",
       "version_major": 2,
       "version_minor": 0
      },
      "text/plain": [
       "HBox(children=(IntProgress(value=0, max=10000), HTML(value='')))"
      ]
     },
     "metadata": {},
     "output_type": "display_data"
    },
    {
     "name": "stderr",
     "output_type": "stream",
     "text": [
      "/usr/local/lib/python3.6/dist-packages/foolbox/attacks/base.py:133: UserWarning: Not running the attack because the original input is already misclassified and the adversarial thus has a distance of 0.\n",
      "  warnings.warn('Not running the attack because the original input'\n"
     ]
    },
    {
     "name": "stdout",
     "output_type": "stream",
     "text": [
      "Epsilon: 0.5\tTest Accuracy = 8707 / 10000 = 0.8707\n"
     ]
    }
   ],
   "source": [
    "# Accuracy counter\n",
    "correct = 0\n",
    "classifier_failed = 0\n",
    "adversary_succeeded = 0\n",
    "adversary_failed = 0\n",
    "adv_examples = []\n",
    "# epsilon = 0.5\n",
    "# attack = foolbox.attacks.GradientAttack(fmodel)\n",
    "attack = foolbox.attacks.FGSM(fmodel)\n",
    "attack_name = \"fgsm\"\n",
    "attack_image_folder = \"./\" + attack_name + \"/\"\n",
    "!mkdir -p $attack_image_folder\n",
    "\n",
    "\n",
    "# Loop over all examples in test set\n",
    "for i in tqdm.tqdm_notebook(range(len(test_mnist))):\n",
    "\n",
    "    # Send the data and label to the device\n",
    "    image, target = test_mnist[i]\n",
    "\n",
    "    # Forward pass the data through the model\n",
    "    output = fmodel.forward(np.expand_dims(image, 0))\n",
    "    init_pred = np.argmax(output) # get the index of the max log-probability\n",
    "\n",
    "    # If the initial prediction is wrong, dont bother attacking, just move on\n",
    "    if init_pred != target:\n",
    "        classifier_failed += 1\n",
    "        continue\n",
    "\n",
    "    # Call FGSM Attack\n",
    "    adversarial = attack(image.numpy(), label)\n",
    "\n",
    "    if adversarial is None:\n",
    "        adversary_failed += 1\n",
    "        continue\n",
    "    \n",
    "    # Re-classify the perturbed image\n",
    "    adv_output = fmodel.forward(np.expand_dims(adversarial, 0))\n",
    "    perturbed_pred = np.argmax(adv_output)\n",
    "\n",
    "    # Check for success\n",
    "    if perturbed_pred == target:\n",
    "        correct += 1\n",
    "    else:\n",
    "        adversary_succeeded += 1\n",
    "        output_image = (adversarial[0,:,:] * 255).astype(np.uint8)\n",
    "        imageio.imsave(attack_image_folder + attack_name + \"_\" + str(i) + \".png\", output_image)\n",
    "        with open(attack_image_folder + attack_name + \"_\" + str(i) + \".txt\", \"w\") as file:\n",
    "            file.write(str(perturbed_pred))\n",
    "\n",
    "# Calculate final accuracy for this epsilon\n",
    "final_acc = correct/float(len(test_loader))\n",
    "print(\"Epsilon: {}\\tTest Accuracy = {} / {} = {}\".format(epsilon, correct, len(test_loader), final_acc))"
   ]
  },
  {
   "cell_type": "code",
   "execution_count": 69,
   "metadata": {},
   "outputs": [
    {
     "name": "stdout",
     "output_type": "stream",
     "text": [
      "(1, 28, 28)\n",
      "adversarial class 6\n"
     ]
    },
    {
     "data": {
      "text/plain": [
       "<matplotlib.image.AxesImage at 0x7fe51c7c7e10>"
      ]
     },
     "execution_count": 69,
     "metadata": {},
     "output_type": "execute_result"
    },
    {
     "data": {
      "image/png": "[encoded data removed]",
      "text/plain": [
       "<matplotlib.figure.Figure at 0x7fe51c7e4470>"
      ]
     },
     "metadata": {
      "needs_background": "light"
     },
     "output_type": "display_data"
    }
   ],
   "source": [
    "print(adversarial.shape)\n",
    "print('adversarial class', np.argmax(fmodel.forward(np.expand_dims(adversarial, 0))))\n",
    "plt.figure()\n",
    "plt.imshow(adversarial[0,:,:])"
   ]
  },
  {
   "cell_type": "code",
   "execution_count": 75,
   "metadata": {},
   "outputs": [
    {
     "name": "stderr",
     "output_type": "stream",
     "text": [
      "WARNING:imageio:Lossy conversion from float32 to uint8. Range [0, 1]. Convert image to uint8 prior to saving to suppress this warning.\n"
     ]
    }
   ],
   "source": [
    "imageio.imsave(\"testing_saving.png\", adversarial[0,:,:])"
   ]
  },
  {
   "cell_type": "code",
   "execution_count": 66,
   "metadata": {},
   "outputs": [
    {
     "name": "stdout",
     "output_type": "stream",
     "text": [
      "Test Accuracy = 8707 / 10000 = 0.8707\n",
      "Adversary succeeded 1131 / Adversary failed 0 \n",
      "Classifier succeeded 8707 / Classifier failed 162 \n"
     ]
    }
   ],
   "source": [
    "print(\"Test Accuracy = {} / {} = {}\".format(correct, len(test_loader), final_acc))\n",
    "print(\"Adversary succeeded {} / Adversary failed {} \".format(adversary_succeeded, adversary_failed))\n",
    "print(\"Classifier succeeded {} / Classifier failed {} \".format(correct, classifier_failed))"
   ]
  },
  {
   "cell_type": "code",
   "execution_count": 67,
   "metadata": {},
   "outputs": [
    {
     "data": {
      "text/plain": [
       "10000"
      ]
     },
     "execution_count": 67,
     "metadata": {},
     "output_type": "execute_result"
    }
   ],
   "source": [
    "correct + classifier_failed + adversary_succeeded + adversary_failed"
   ]
  }
 ],
 "metadata": {
  "kernelspec": {
   "display_name": "Python 3",
   "language": "python",
   "name": "python3"
  },
  "language_info": {
   "codemirror_mode": {
    "name": "ipython",
    "version": 3
   },
   "file_extension": ".py",
   "mimetype": "text/x-python",
   "name": "python",
   "nbconvert_exporter": "python",
   "pygments_lexer": "ipython3",
   "version": "3.6.8"
  }
 },
 "nbformat": 4,
 "nbformat_minor": 4
}
