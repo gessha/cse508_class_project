{
 "cells": [
  {
   "cell_type": "code",
   "execution_count": 1,
   "metadata": {},
   "outputs": [],
   "source": [
    "# # How to get the data\n",
    "# !wget http://files.fast.ai/data/imagenet-sample-train.tar.gz\n",
    "# !gunzip imagenet-sample-train.tar.gz\n",
    "# !tar xvf imagenet-sample-train.tar"
   ]
  },
  {
   "cell_type": "code",
   "execution_count": 2,
   "metadata": {},
   "outputs": [],
   "source": [
    "import matplotlib.pyplot as plt\n",
    "import numpy as np\n",
    "import torch\n",
    "import torchvision\n",
    "import foolbox\n",
    "import tqdm\n",
    "import imageio\n",
    "from torchvision import transforms\n",
    "from torch.autograd import Variable"
   ]
  },
  {
   "cell_type": "code",
   "execution_count": 3,
   "metadata": {},
   "outputs": [],
   "source": [
    "# load dataset\n",
    "imagenet_data = torchvision.datasets.ImageFolder('/data/imagenet_sample_train/', transform=transforms.ToTensor(), )\n",
    "\n",
    "# load model\n",
    "model = torchvision.models.resnet50(pretrained=True, )\n",
    "model.eval()\n",
    "model.to(\"cpu\")\n",
    "\n",
    "# prep Foolbox model\n",
    "mean = np.array([0.485, 0.456, 0.406]).reshape((3, 1, 1))\n",
    "std = np.array([0.229, 0.224, 0.225]).reshape((3, 1, 1))\n",
    "fmodel = foolbox.models.PyTorchModel(model, bounds=(0,1), num_classes=1000, preprocessing=(mean, std), device='cuda')\n",
    "\n",
    "# define attack model\n",
    "attack = foolbox.attacks.FGSM(fmodel)"
   ]
  },
  {
   "cell_type": "code",
   "execution_count": 4,
   "metadata": {},
   "outputs": [],
   "source": [
    "# image, label = imagenet_data[0]; \n",
    "# print('predicted class', np.argmax(fmodel.forward(np.expand_dims(image, 0))))\n",
    "# plt.figure()\n",
    "# plt.imshow(image[0,:,:])\n",
    "\n",
    "# adversarial = attack(image.numpy(), label); \n",
    "# print('adversarial class', np.argmax(fmodel.forward(np.expand_dims(adversarial, 0))))\n",
    "# plt.figure()\n",
    "# plt.imshow(adversarial[0,:,:])"
   ]
  },
  {
   "cell_type": "code",
   "execution_count": 5,
   "metadata": {},
   "outputs": [
    {
     "data": {
      "application/vnd.jupyter.widget-view+json": {
       "model_id": "2533ed594d6e4dd29bf0a6dc5f14f97c",
       "version_major": 2,
       "version_minor": 0
      },
      "text/plain": [
       "HBox(children=(IntProgress(value=0, max=19439), HTML(value='')))"
      ]
     },
     "metadata": {},
     "output_type": "display_data"
    },
    {
     "name": "stdout",
     "output_type": "stream",
     "text": [
      "\n",
      "Test Accuracy = 0 / 19439 = 0.0\n"
     ]
    }
   ],
   "source": [
    "# Accuracy counter\n",
    "correct = 0\n",
    "classifier_failed = 0\n",
    "adversary_succeeded = 0\n",
    "adversary_failed = 0\n",
    "adv_examples = []\n",
    "epsilon = 0.5\n",
    "\n",
    "attack = foolbox.attacks.FGSM(fmodel)\n",
    "attack_name = \"fgsm\"\n",
    "attack_image_folder = \"./imagenet/\" + attack_name + \"/\"\n",
    "!mkdir -p $attack_image_folder\n",
    "\n",
    "# with open(\"./checkpoint.txt\") as file:\n",
    "#     last_checked = int(file.read())\n",
    "\n",
    "# Loop over all examples in test set\n",
    "for i in tqdm.tqdm_notebook(range(len(imagenet_data))):\n",
    "\n",
    "#     with open(\"./checkpoint.txt\",\"w\") as file:\n",
    "#         file.write(str(i))\n",
    "    \n",
    "    # Send the data and label to the device\n",
    "    image, target = imagenet_data[i]\n",
    "\n",
    "    if image.shape[1] > 1000 or image.shape[2] > 1000:\n",
    "        del image\n",
    "#         i += 1\n",
    "        continue\n",
    "    \n",
    "    # Forward pass the data through the model\n",
    "    output = fmodel.forward(np.expand_dims(image, 0, ))\n",
    "    init_pred = np.argmax(output) # get the index of the max log-probability\n",
    "\n",
    "    # If the initial prediction is wrong, dont bother attacking, just move on\n",
    "    if init_pred != target:\n",
    "        classifier_failed += 1\n",
    "        continue\n",
    "\n",
    "    # Call FGSM Attack\n",
    "    adversarial = attack(image.numpy(), target)\n",
    "    del image\n",
    "    if adversarial is None:\n",
    "        adversary_failed += 1\n",
    "        del adversarial\n",
    "        continue\n",
    "    \n",
    "    # Re-classify the perturbed image\n",
    "    adv_output = fmodel.forward(np.expand_dims(adversarial, 0))\n",
    "    perturbed_pred = np.argmax(adv_output)\n",
    "\n",
    "    # Check for success\n",
    "    if perturbed_pred == target:\n",
    "        correct += 1\n",
    "    else:\n",
    "        adversary_succeeded += 1\n",
    "        adversarial = np.rollaxis(adversarial, 0, 3)\n",
    "        adversarial = adversarial * 255\n",
    "        adversarial = adversarial.astype(np.uint8)\n",
    "        imageio.imsave(attack_image_folder + attack_name + \"_\" + str(i) + \".png\", adversarial)\n",
    "        del adversarial\n",
    "        with open(attack_image_folder + attack_name + \"_\" + str(i) + \".txt\", \"w\") as file:\n",
    "            file.write(str(perturbed_pred))\n",
    "    \n",
    "            \n",
    "# Calculate final accuracy for this epsilon\n",
    "final_acc = correct/float(len(imagenet_data))\n",
    "print(\"Test Accuracy = {} / {} = {}\".format(correct, len(imagenet_data), final_acc))"
   ]
  },
  {
   "cell_type": "code",
   "execution_count": null,
   "metadata": {},
   "outputs": [],
   "source": []
  },
  {
   "cell_type": "code",
   "execution_count": null,
   "metadata": {},
   "outputs": [],
   "source": []
  },
  {
   "cell_type": "code",
   "execution_count": null,
   "metadata": {},
   "outputs": [],
   "source": []
  },
  {
   "cell_type": "code",
   "execution_count": null,
   "metadata": {},
   "outputs": [],
   "source": []
  },
  {
   "cell_type": "code",
   "execution_count": 8,
   "metadata": {},
   "outputs": [
    {
     "data": {
      "text/plain": [
       "59.0"
      ]
     },
     "execution_count": 8,
     "metadata": {},
     "output_type": "execute_result"
    }
   ],
   "source": [
    "from pathlib import Path\n",
    "len(list(Path('./imagenet/fgsm/').glob(\"*\"))) / 2"
   ]
  }
 ],
 "metadata": {
  "kernelspec": {
   "display_name": "Python 3",
   "language": "python",
   "name": "python3"
  },
  "language_info": {
   "codemirror_mode": {
    "name": "ipython",
    "version": 3
   },
   "file_extension": ".py",
   "mimetype": "text/x-python",
   "name": "python",
   "nbconvert_exporter": "python",
   "pygments_lexer": "ipython3",
   "version": "3.6.8"
  }
 },
 "nbformat": 4,
 "nbformat_minor": 4
}
