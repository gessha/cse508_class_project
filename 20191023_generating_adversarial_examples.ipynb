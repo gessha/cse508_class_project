{
 "cells": [
  {
   "cell_type": "code",
   "execution_count": 1,
   "metadata": {},
   "outputs": [],
   "source": [
    "%matplotlib inline\n",
    "import matplotlib.pyplot as plt\n",
    "import numpy as np\n",
    "import tqdm\n",
    "import imageio\n",
    "\n",
    "import torch\n",
    "import torch.nn as nn\n",
    "import torch.nn.functional as F\n",
    "import torch.optim as optim\n",
    "import torchvision\n",
    "from torchvision import datasets, transforms\n",
    "\n",
    "import foolbox\n",
    "\n",
    "from wideresnet import WideResNet"
   ]
  },
  {
   "cell_type": "markdown",
   "metadata": {},
   "source": [
    "## Generating adversarial examples for CIFAR-10, CIFAR-100, and TinyImagenet\n",
    "- [x]  get cifar-10 - Done\n",
    "- [x]  get cifar-100\n",
    "- [ ]  ~get tiny-imagenet~, not needed, Prantik got ImageNet to work\n",
    "\n",
    "## get pretrained pytorch models for each dataset\n",
    "- [x] got them all\n",
    "\n",
    "## generate adversarial examples\n",
    "- [ ] FGSM\n",
    "    - [x] MNIST\n",
    "    - [ ] CIFAR10, a derivation of w32-10 wide, based on https://github.com/MadryLab/cifar10_challenge\n",
    "    - [ ] CIFAR100, a derivation of w32-10 wide, based on https://github.com/MadryLab/cifar10_challenge\n",
    "    - [ ] ~ImageNet~, Prantik got these"
   ]
  },
  {
   "cell_type": "code",
   "execution_count": 21,
   "metadata": {},
   "outputs": [
    {
     "name": "stdout",
     "output_type": "stream",
     "text": [
      "Files already downloaded and verified\n",
      "Files already downloaded and verified\n",
      "Files already downloaded and verified\n",
      "Files already downloaded and verified\n"
     ]
    }
   ],
   "source": [
    "transform = transforms.Compose(\n",
    "    [transforms.ToTensor(),\n",
    "#      transforms.Normalize((0.5, 0.5, 0.5), (0.5, 0.5, 0.5))\n",
    "    ]\n",
    ")\n",
    "\n",
    "mean = np.array([0.5, 0.5, 0.5]).reshape((3, 1, 1))\n",
    "std = np.array([0.5, 0.5, 0.5]).reshape((3, 1, 1))\n",
    "\n",
    "trainset = torchvision.datasets.CIFAR10(root='/data', train=True, download=True, transform=transform)\n",
    "trainloader = torch.utils.data.DataLoader(trainset, batch_size=4,shuffle=True, num_workers=2)\n",
    "\n",
    "testset = torchvision.datasets.CIFAR10(root='/data', train=False,download=True, transform=transform)\n",
    "testloader = torch.utils.data.DataLoader(testset, batch_size=4,shuffle=False, num_workers=2)\n",
    "\n",
    "classes = ('plane', 'car', 'bird', 'cat', 'deer', 'dog', 'frog', 'horse', 'ship', 'truck')\n",
    "\n",
    "trainset_cifar100 = torchvision.datasets.CIFAR100(root='/data', train=True,download=True, transform=transform)\n",
    "trainloader_cifar100 = torch.utils.data.DataLoader(trainset, batch_size=4,shuffle=True, num_workers=2)\n",
    "\n",
    "testset_cifar100 = torchvision.datasets.CIFAR100(root='/data', train=False,download=True, transform=transform)\n",
    "testloader_cifar100 = torch.utils.data.DataLoader(testset, batch_size=4,shuffle=False, num_workers=2)\n",
    "\n",
    "# classes = ('plane', 'car', 'bird', 'cat', 'deer', 'dog', 'frog', 'horse', 'ship', 'truck')"
   ]
  },
  {
   "cell_type": "code",
   "execution_count": 25,
   "metadata": {},
   "outputs": [],
   "source": [
    "model = WideResNet(28, 100, 10)\n",
    "# checkpoint = torch.load(\"/home/georgi/WideResNet-pytorch/runs/WideResNet-28-10/model_best.pth.tar\")\n",
    "checkpoint = torch.load(\"/home/georgi/WideResNet-pytorch/runs/WideResNet-28-10-cifar100/model_best.pth.tar\")\n",
    "model.load_state_dict(checkpoint['state_dict'])\n",
    "model.eval()\n",
    "print('', end='')"
   ]
  },
  {
   "cell_type": "code",
   "execution_count": 10,
   "metadata": {},
   "outputs": [],
   "source": [
    "fmodel = foolbox.models.PyTorchModel(model, bounds=(0,1), num_classes=100, preprocessing=(mean, std))"
   ]
  },
  {
   "cell_type": "code",
   "execution_count": 15,
   "metadata": {},
   "outputs": [],
   "source": [
    "image, label = testset_cifar100[0]"
   ]
  },
  {
   "cell_type": "code",
   "execution_count": 12,
   "metadata": {},
   "outputs": [
    {
     "data": {
      "text/plain": [
       "(3, 32, 32)"
      ]
     },
     "execution_count": 12,
     "metadata": {},
     "output_type": "execute_result"
    }
   ],
   "source": [
    "image.numpy().shape"
   ]
  },
  {
   "cell_type": "code",
   "execution_count": 13,
   "metadata": {},
   "outputs": [],
   "source": [
    "attack = foolbox.attacks.FGSM(fmodel)\n",
    "adversarial = attack(image.numpy(), label)"
   ]
  },
  {
   "cell_type": "code",
   "execution_count": 14,
   "metadata": {},
   "outputs": [
    {
     "name": "stdout",
     "output_type": "stream",
     "text": [
      "(torch.Size([3, 32, 32]), 6)\n",
      "predicted class 6\n",
      "(3, 32, 32)\n",
      "adversarial class 3\n"
     ]
    },
    {
     "data": {
      "text/plain": [
       "<matplotlib.image.AxesImage at 0x7f23f203a748>"
      ]
     },
     "execution_count": 14,
     "metadata": {},
     "output_type": "execute_result"
    },
    {
     "data": {
      "image/png": "[encoded data removed]",
      "text/plain": [
       "<matplotlib.figure.Figure at 0x7f23f490ef28>"
      ]
     },
     "metadata": {
      "needs_background": "light"
     },
     "output_type": "display_data"
    },
    {
     "data": {
      "image/png": "[encoded data removed]",
      "text/plain": [
       "<matplotlib.figure.Figure at 0x7f23f20a7240>"
      ]
     },
     "metadata": {
      "needs_background": "light"
     },
     "output_type": "display_data"
    }
   ],
   "source": [
    "print((image.shape, label))\n",
    "print('predicted class', np.argmax(fmodel.forward(np.expand_dims(image, 0))))\n",
    "plt.figure()\n",
    "plt.imshow(image[0,:,:])\n",
    "adversarial = attack(image.numpy(), label, epsilons=[0.13]); \n",
    "adversarial = attack(image.numpy(), label); \n",
    "print(adversarial.shape)\n",
    "print('adversarial class', np.argmax(fmodel.forward(np.expand_dims(adversarial, 0))))\n",
    "plt.figure()\n",
    "plt.imshow(adversarial[0,:,:])"
   ]
  },
  {
   "cell_type": "code",
   "execution_count": 26,
   "metadata": {},
   "outputs": [
    {
     "data": {
      "application/vnd.jupyter.widget-view+json": {
       "model_id": "cdfbeabd909e4ab8a83219aa38139024",
       "version_major": 2,
       "version_minor": 0
      },
      "text/plain": [
       "HBox(children=(IntProgress(value=0, max=10000), HTML(value='')))"
      ]
     },
     "metadata": {},
     "output_type": "display_data"
    },
    {
     "name": "stderr",
     "output_type": "stream",
     "text": [
      "/usr/local/lib/python3.6/dist-packages/foolbox/attacks/base.py:133: UserWarning: Not running the attack because the original input is already misclassified and the adversarial thus has a distance of 0.\n",
      "  warnings.warn('Not running the attack because the original input'\n"
     ]
    }
   ],
   "source": [
    "# Accuracy counter\n",
    "correct = 0\n",
    "classifier_failed = 0\n",
    "adversary_succeeded = 0\n",
    "adversary_failed = 0\n",
    "adv_examples = []\n",
    "epsilon = 0.5\n",
    "# attack = foolbox.attacks.GradientAttack(fmodel)\n",
    "attack = foolbox.attacks.FGSM(fmodel)\n",
    "attack_name = \"fgsm\"\n",
    "attack_image_folder = \"./cifar100/\" + attack_name + \"/\"\n",
    "!mkdir -p $attack_image_folder\n",
    "\n",
    "\n",
    "# Loop over all examples in test set\n",
    "for i in tqdm.tqdm_notebook(range(len(testset_cifar100))):\n",
    "\n",
    "    # Send the data and label to the device\n",
    "    image, target = testset_cifar100[i]\n",
    "\n",
    "    # Forward pass the data through the model\n",
    "    output = fmodel.forward(np.expand_dims(image, 0))\n",
    "    init_pred = np.argmax(output) # get the index of the max log-probability\n",
    "\n",
    "    # If the initial prediction is wrong, dont bother attacking, just move on\n",
    "    if init_pred != target:\n",
    "        classifier_failed += 1\n",
    "        continue\n",
    "\n",
    "    # Call FGSM Attack\n",
    "    adversarial = attack(image.numpy(), label)\n",
    "\n",
    "    if adversarial is None:\n",
    "        adversary_failed += 1\n",
    "        continue\n",
    "    \n",
    "    # Re-classify the perturbed image\n",
    "    adv_output = fmodel.forward(np.expand_dims(adversarial, 0))\n",
    "    perturbed_pred = np.argmax(adv_output)\n",
    "\n",
    "    # Check for success\n",
    "    if perturbed_pred == target:\n",
    "        correct += 1\n",
    "    else:\n",
    "        adversary_succeeded += 1\n",
    "        output_image = (adversarial[0,:,:] * 255).astype(np.uint8)\n",
    "        imageio.imsave(attack_image_folder + attack_name + \"_\" + str(i) + \".png\", output_image)\n",
    "        with open(attack_image_folder + attack_name + \"_\" + str(i) + \".txt\", \"w\") as file:\n",
    "            file.write(str(perturbed_pred))"
   ]
  },
  {
   "cell_type": "code",
   "execution_count": 27,
   "metadata": {},
   "outputs": [
    {
     "name": "stdout",
     "output_type": "stream",
     "text": [
      "Test Accuracy = 76 / 10000 = 0.0076\n"
     ]
    }
   ],
   "source": [
    "# Calculate final accuracy for this epsilon\n",
    "final_acc = correct/float(len(testset))\n",
    "print(\"Test Accuracy = {} / {} = {}\".format(correct, len(testset_cifar100), final_acc))"
   ]
  }
 ],
 "metadata": {
  "kernelspec": {
   "display_name": "Python 3",
   "language": "python",
   "name": "python3"
  },
  "language_info": {
   "codemirror_mode": {
    "name": "ipython",
    "version": 3
   },
   "file_extension": ".py",
   "mimetype": "text/x-python",
   "name": "python",
   "nbconvert_exporter": "python",
   "pygments_lexer": "ipython3",
   "version": "3.6.8"
  }
 },
 "nbformat": 4,
 "nbformat_minor": 4
}
