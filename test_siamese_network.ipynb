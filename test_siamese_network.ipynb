{
 "cells": [
  {
   "cell_type": "code",
   "execution_count": 109,
   "metadata": {},
   "outputs": [],
   "source": [
    "import torch\n",
    "import torch.nn as nn\n",
    "import matplotlib.pyplot as plt\n",
    "from torch.utils.data import Dataset,DataLoader\n",
    "import torchvision.transforms as transforms\n",
    "from torch.autograd import Variable\n",
    "import cv2\n",
    "import numpy as np\n",
    "import os\n",
    "import random\n",
    "import sys\n",
    "import torchvision.models as models\n",
    "import torch.optim as optim\n",
    "import logging\n",
    "import time\n",
    "import warnings\n",
    "from tensorboardX import SummaryWriter\n",
    "import os\n",
    "import adv_dataset\n",
    "from adv_dataset import adv_dataset\n",
    "\n",
    "import contrastive_loss\n",
    "from contrastive_loss import contrastive_loss\n",
    "import network\n",
    "from network import CNN"
   ]
  },
  {
   "cell_type": "code",
   "execution_count": 118,
   "metadata": {},
   "outputs": [],
   "source": [
    "torch.cuda.set_device(3)\n",
    "DEVICE = torch.device(\"cuda\" if torch.cuda.is_available() else \"cpu\")"
   ]
  },
  {
   "cell_type": "code",
   "execution_count": 119,
   "metadata": {},
   "outputs": [],
   "source": [
    "transform1 = transforms.Compose([transforms.ToPILImage(),transforms.ToTensor(),transforms.Normalize(mean=(0.485, 0.456, 0.406),std= (0.229, 0.224, 0.225)) ])\n"
   ]
  },
  {
   "cell_type": "code",
   "execution_count": 120,
   "metadata": {},
   "outputs": [],
   "source": [
    "test_set =  adv_dataset('./fgsm_test.txt',False,transform1)\n",
    "testloader = DataLoader(test_set, batch_size=5, shuffle=False, num_workers=0)"
   ]
  },
  {
   "cell_type": "code",
   "execution_count": 121,
   "metadata": {},
   "outputs": [],
   "source": [
    "cnn = models.resnet152(pretrained=True)\n",
    "#model = CNN(50)"
   ]
  },
  {
   "cell_type": "code",
   "execution_count": 122,
   "metadata": {},
   "outputs": [],
   "source": [
    "MODEL_PATH = os.path.join('./model_output_50/', 'resnet_simaese.pth')\n",
    "state_dict = torch.load(MODEL_PATH, map_location=\"cpu\")\n",
    "#print(cnn.parameters())\n",
    "#print(state_dict.keys())\n",
    "state_dict_v2={}\n",
    "for key in state_dict:\n",
    "    #print(key)\n",
    "    #print(key[10:])\n",
    "    \n",
    "    \n",
    "    state_dict_v2[key[10:]]=state_dict[key]\n"
   ]
  },
  {
   "cell_type": "code",
   "execution_count": 123,
   "metadata": {},
   "outputs": [
    {
     "data": {
      "text/plain": [
       "IncompatibleKeys(missing_keys=[], unexpected_keys=[])"
      ]
     },
     "execution_count": 123,
     "metadata": {},
     "output_type": "execute_result"
    }
   ],
   "source": [
    "cnn.load_state_dict(state_dict_v2)   "
   ]
  },
  {
   "cell_type": "code",
   "execution_count": 124,
   "metadata": {},
   "outputs": [],
   "source": [
    "_=cnn.eval()\n",
    "iter_test = 0\n",
    "acc_count_1 = 0\n",
    "acc_count_5 = 0 "
   ]
  },
  {
   "cell_type": "code",
   "execution_count": 125,
   "metadata": {},
   "outputs": [
    {
     "name": "stdout",
     "output_type": "stream",
     "text": [
      "tensor([0.], device='cuda:3')\n",
      "tensor([0.], device='cuda:3')\n",
      "tensor([0.], device='cuda:3')\n",
      "tensor([0.], device='cuda:3')\n",
      "tensor([0.], device='cuda:3')\n",
      "tensor([0.2000], device='cuda:3')\n",
      "tensor([0.2000], device='cuda:3')\n",
      "tensor([0.2000], device='cuda:3')\n",
      "tensor([0.2000], device='cuda:3')\n",
      "tensor([0.2000], device='cuda:3')\n",
      "tensor([0.2000], device='cuda:3')\n",
      "tensor([0.2000], device='cuda:3')\n",
      "tensor([0.2000], device='cuda:3')\n",
      "tensor([0.2000], device='cuda:3')\n",
      "tensor([0.2000], device='cuda:3')\n",
      "tensor([0.2000], device='cuda:3')\n",
      "tensor([0.2000], device='cuda:3')\n",
      "tensor([0.2000], device='cuda:3')\n",
      "tensor([0.2000], device='cuda:3')\n",
      "tensor([0.2000], device='cuda:3')\n",
      "tensor([0.2000], device='cuda:3')\n",
      "tensor([0.2000], device='cuda:3')\n",
      "tensor([0.2000], device='cuda:3')\n",
      "tensor([0.2000], device='cuda:3')\n",
      "tensor([0.2000], device='cuda:3')\n",
      "tensor([0.2000], device='cuda:3')\n",
      "tensor([0.2000], device='cuda:3')\n",
      "tensor([0.2000], device='cuda:3')\n",
      "tensor([0.2000], device='cuda:3')\n",
      "tensor([0.2000], device='cuda:3')\n",
      "tensor([0.2000], device='cuda:3')\n",
      "tensor([0.2000], device='cuda:3')\n",
      "tensor([0.2000], device='cuda:3')\n",
      "tensor([0.2000], device='cuda:3')\n",
      "tensor([0.2000], device='cuda:3')\n",
      "tensor([0.2000], device='cuda:3')\n",
      "tensor([0.2000], device='cuda:3')\n",
      "tensor([0.2000], device='cuda:3')\n",
      "tensor([0.2000], device='cuda:3')\n",
      "tensor([0.2000], device='cuda:3')\n",
      "tensor([0.2000], device='cuda:3')\n",
      "tensor([0.2000], device='cuda:3')\n",
      "tensor([0.2000], device='cuda:3')\n",
      "tensor([0.2000], device='cuda:3')\n",
      "tensor([0.2000], device='cuda:3')\n",
      "tensor([0.2000], device='cuda:3')\n",
      "tensor([0.2000], device='cuda:3')\n",
      "tensor([0.2000], device='cuda:3')\n",
      "tensor([0.2000], device='cuda:3')\n",
      "tensor([0.2000], device='cuda:3')\n",
      "tensor([0.2000], device='cuda:3')\n",
      "tensor([0.2000], device='cuda:3')\n",
      "tensor([0.2000], device='cuda:3')\n",
      "tensor([0.2000], device='cuda:3')\n",
      "tensor([0.2000], device='cuda:3')\n",
      "tensor([0.2000], device='cuda:3')\n",
      "tensor([0.2000], device='cuda:3')\n",
      "tensor([0.2000], device='cuda:3')\n",
      "tensor([0.2000], device='cuda:3')\n",
      "tensor([0.2000], device='cuda:3')\n",
      "final accuracy 1\n",
      "tensor([0.0033], device='cuda:3')\n",
      "final accuracy 5\n",
      "tensor([0.0800], device='cuda:3')\n"
     ]
    }
   ],
   "source": [
    "for data in testloader:\n",
    "    net1 = cnn.to(DEVICE)\n",
    "    #net2 = net2.to(DEVICE)\n",
    "    \n",
    "    img1 = data['img1'].to(DEVICE)\n",
    "    #img1 = img1.float()\n",
    "    img1 = img1.view(-1,img1.shape[-3],img1.shape[-2],img1.shape[-1])\n",
    "    img1 = img1.float()\n",
    "    #print(img1.shape)\n",
    "    label = data['label'].to(DEVICE)\n",
    "\n",
    "    label= label.view(-1)\n",
    "    label = label-1\n",
    "    output= net1.forward(img1)\n",
    "    #output = net2.forward(reps)\n",
    "    softmax_test = nn.functional.softmax(output, dim=1).data\n",
    "    #print(\"check the 1 accuracy\")\n",
    "    batch_size = label.size(0)\n",
    "    values, index = torch.topk(softmax_test,1)\n",
    "    index = index.t()\n",
    "    correct1 = index.eq(label.view(1, -1).expand_as(index))\n",
    "    #print(\"correct 1 matrix\")\n",
    "    #print(correct1)\n",
    "    #count = 0\n",
    "    tot_correct_1 = 0\n",
    "    iter_test +=1\n",
    "\n",
    "    for count in np.arange(1):\n",
    "\n",
    "        #print(\"check the count\")\n",
    "        #print(count)\n",
    "        #print(correct1[count,:].view(-1).float().sum(0, keepdim=True))\n",
    "        tot_correct_1 += correct1[count,:].view(-1).float().sum(0, keepdim=True)\n",
    "    acc_count_1 += (tot_correct_1/batch_size)\n",
    "    print(acc_count_1)\n",
    "    #print(values)\n",
    "    #print(index)\n",
    "    values1, index1 = torch.topk(softmax_test,5)\n",
    "    #batch_size = label_test.size(0)\n",
    "    #print(\"batch size\")\n",
    "    #print(batch_size)\n",
    "    #print(\"check the 5 accuracy\")\n",
    "    index1 = index1.t()\n",
    "    correct = index1.eq(label.view(1, -1).expand_as(index1))\n",
    "    #print(correct)\n",
    "    #count = 0\n",
    "    tot_correct = 0\n",
    "    for count in np.arange(5):\n",
    "\n",
    "        #print(\"check the count\")\n",
    "        #print(count)\n",
    "        #print(correct[count,:].view(-1).float().sum(0, keepdim=True))\n",
    "        tot_correct += correct[count,:].view(-1).float().sum(0, keepdim=True)\n",
    "    #net2.train()\n",
    "    acc_count_5 += (tot_correct/batch_size)\n",
    "    #print(acc_count_5)\n",
    "print(\"final accuracy 1\")\n",
    "print(acc_count_1/iter_test)\n",
    "print(\"final accuracy 5\")\n",
    "print(acc_count_5/iter_test)"
   ]
  },
  {
   "cell_type": "code",
   "execution_count": null,
   "metadata": {},
   "outputs": [],
   "source": []
  }
 ],
 "metadata": {
  "kernelspec": {
   "display_name": "Python 3",
   "language": "python",
   "name": "python3"
  },
  "language_info": {
   "codemirror_mode": {
    "name": "ipython",
    "version": 3
   },
   "file_extension": ".py",
   "mimetype": "text/x-python",
   "name": "python",
   "nbconvert_exporter": "python",
   "pygments_lexer": "ipython3",
   "version": "3.6.8"
  }
 },
 "nbformat": 4,
 "nbformat_minor": 2
}
